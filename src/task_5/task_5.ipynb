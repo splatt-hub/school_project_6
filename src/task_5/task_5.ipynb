{
 "cells": [
  {
   "cell_type": "code",
   "execution_count": 7,
   "id": "03c107f8",
   "metadata": {},
   "outputs": [],
   "source": [
    "import sqlite3 as lite\n",
    "import pandas as pd\n",
    "\n",
    "con = lite.connect('./data/checking-logs.sqlite') # подключение БД к Питон"
   ]
  },
  {
   "cell_type": "code",
   "execution_count": 8,
   "id": "6f9d65e3",
   "metadata": {},
   "outputs": [
    {
     "data": {
      "text/html": [
       "<div>\n",
       "<style scoped>\n",
       "    .dataframe tbody tr th:only-of-type {\n",
       "        vertical-align: middle;\n",
       "    }\n",
       "\n",
       "    .dataframe tbody tr th {\n",
       "        vertical-align: top;\n",
       "    }\n",
       "\n",
       "    .dataframe thead th {\n",
       "        text-align: right;\n",
       "    }\n",
       "</style>\n",
       "<table border=\"1\" class=\"dataframe\">\n",
       "  <thead>\n",
       "    <tr style=\"text-align: right;\">\n",
       "      <th></th>\n",
       "      <th>times</th>\n",
       "      <th>avg_diff</th>\n",
       "    </tr>\n",
       "  </thead>\n",
       "  <tbody>\n",
       "    <tr>\n",
       "      <th>0</th>\n",
       "      <td>after</td>\n",
       "      <td>-99.523810</td>\n",
       "    </tr>\n",
       "    <tr>\n",
       "      <th>1</th>\n",
       "      <td>before</td>\n",
       "      <td>-66.047619</td>\n",
       "    </tr>\n",
       "  </tbody>\n",
       "</table>\n",
       "</div>"
      ],
      "text/plain": [
       "    times   avg_diff\n",
       "0   after -99.523810\n",
       "1  before -66.047619"
      ]
     },
     "execution_count": 8,
     "metadata": {},
     "output_type": "execute_result"
    }
   ],
   "source": [
    "test_result = pd.io.sql.read_sql(\"\"\"\n",
    "    SELECT 'before' AS 'times', avg(diff) AS avg_diff\n",
    "    FROM (SELECT uid, avg(delta) AS diff\n",
    "        FROM (SELECT cast(24 * (julianday(first_commit_ts) - julianday(deadlines)) AS integer) AS delta, uid\n",
    "            FROM (SELECT t.uid, labname, first_commit_ts, first_view_ts,\n",
    "                datetime(deadlines, 'unixepoch') AS deadlines\n",
    "                FROM test AS t\n",
    "                LEFT JOIN deadlines AS d\n",
    "                ON t.labname = d.labs)\n",
    "                WHERE labname NOT IN ('project1') AND first_commit_ts < first_view_ts)\n",
    "                GROUP BY uid)\n",
    "    union\n",
    "    SELECT 'after' AS 'times', avg(diff) AS avg_diff\n",
    "    FROM (SELECT uid, avg(delta) AS diff\n",
    "        FROM (SELECT cast(24 * (julianday(first_commit_ts) - julianday(deadlines)) AS integer) AS delta, uid\n",
    "            FROM (SELECT t.uid, labname, first_commit_ts, first_view_ts,\n",
    "                datetime(d.deadlines, 'unixepoch') AS deadlines\n",
    "                FROM test AS t\n",
    "                LEFT JOIN deadlines AS d\n",
    "                ON t.labname = d.labs)\n",
    "                WHERE labname NOT IN ('project1') AND first_commit_ts > first_view_ts\n",
    "                AND uid IN (SELECT uid\n",
    "                            FROM test\n",
    "                            WHERE labname NOT IN ('project1') AND first_commit_ts < first_view_ts\n",
    "                GROUP BY uid))\n",
    "        GROUP BY uid)\n",
    "    \"\"\", con)\n",
    "test_result"
   ]
  },
  {
   "cell_type": "code",
   "execution_count": 9,
   "id": "f27d70b6",
   "metadata": {},
   "outputs": [
    {
     "data": {
      "text/html": [
       "<div>\n",
       "<style scoped>\n",
       "    .dataframe tbody tr th:only-of-type {\n",
       "        vertical-align: middle;\n",
       "    }\n",
       "\n",
       "    .dataframe tbody tr th {\n",
       "        vertical-align: top;\n",
       "    }\n",
       "\n",
       "    .dataframe thead th {\n",
       "        text-align: right;\n",
       "    }\n",
       "</style>\n",
       "<table border=\"1\" class=\"dataframe\">\n",
       "  <thead>\n",
       "    <tr style=\"text-align: right;\">\n",
       "      <th></th>\n",
       "      <th>times</th>\n",
       "      <th>avg_diff</th>\n",
       "    </tr>\n",
       "  </thead>\n",
       "  <tbody>\n",
       "    <tr>\n",
       "      <th>0</th>\n",
       "      <td>after</td>\n",
       "      <td>-99.322222</td>\n",
       "    </tr>\n",
       "    <tr>\n",
       "      <th>1</th>\n",
       "      <td>before</td>\n",
       "      <td>-98.033333</td>\n",
       "    </tr>\n",
       "  </tbody>\n",
       "</table>\n",
       "</div>"
      ],
      "text/plain": [
       "    times   avg_diff\n",
       "0   after -99.322222\n",
       "1  before -98.033333"
      ]
     },
     "execution_count": 9,
     "metadata": {},
     "output_type": "execute_result"
    }
   ],
   "source": [
    "control_result = pd.io.sql.read_sql(\"\"\"\n",
    "    SELECT 'before' AS 'times', avg(diff) AS avg_diff\n",
    "    FROM (SELECT uid, avg(delta) AS diff\n",
    "        FROM (SELECT cast(24 * (julianday(first_commit_ts) - julianday(deadlines)) AS integer) AS delta, uid\n",
    "            FROM (SELECT c.uid, labname, first_commit_ts, first_view_ts,\n",
    "                datetime(deadlines, 'unixepoch') AS deadlines\n",
    "                FROM control AS c\n",
    "                LEFT JOIN deadlines AS d\n",
    "                ON c.labname = d.labs)\n",
    "                WHERE labname NOT IN ('project1') AND first_commit_ts < first_view_ts)\n",
    "                GROUP BY uid)\n",
    "    union\n",
    "    SELECT 'after' AS 'times', avg(diff) AS avg_diff\n",
    "    FROM (SELECT uid, avg(delta) AS diff\n",
    "        FROM (SELECT cast(24 * (julianday(first_commit_ts) - julianday(deadlines)) AS integer) AS delta, uid\n",
    "            FROM (SELECT c.uid, labname, first_commit_ts, first_view_ts,\n",
    "                datetime(d.deadlines, 'unixepoch') AS deadlines\n",
    "                FROM control AS c\n",
    "                LEFT JOIN deadlines AS d\n",
    "                ON c.labname = d.labs)\n",
    "            WHERE labname NOT IN ('project1') AND first_commit_ts > first_view_ts\n",
    "            AND uid IN (SELECT uid\n",
    "                        FROM control\n",
    "                        WHERE labname NOT IN ('project1') AND first_commit_ts < first_view_ts\n",
    "                    GROUP BY uid))\n",
    "        GROUP BY uid)\n",
    "    \"\"\", con)\n",
    "control_result"
   ]
  },
  {
   "cell_type": "code",
   "execution_count": 10,
   "id": "0e531c70",
   "metadata": {},
   "outputs": [],
   "source": [
    "con.close()"
   ]
  }
 ],
 "metadata": {
  "kernelspec": {
   "display_name": "Python 3 (ipykernel)",
   "language": "python",
   "name": "python3"
  },
  "language_info": {
   "codemirror_mode": {
    "name": "ipython",
    "version": 3
   },
   "file_extension": ".py",
   "mimetype": "text/x-python",
   "name": "python",
   "nbconvert_exporter": "python",
   "pygments_lexer": "ipython3",
   "version": "3.11.3"
  }
 },
 "nbformat": 4,
 "nbformat_minor": 5
}
